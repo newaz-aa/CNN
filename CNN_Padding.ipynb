{
  "nbformat": 4,
  "nbformat_minor": 0,
  "metadata": {
    "colab": {
      "provenance": []
    },
    "kernelspec": {
      "name": "python3",
      "display_name": "Python 3"
    },
    "language_info": {
      "name": "python"
    }
  },
  "cells": [
    {
      "cell_type": "markdown",
      "source": [
        "**This notebook covers how different types of paddings chnages the output shape in TensorFlow.**\n",
        "\n",
        "Also look at the handwritten note (filename - 'cnn_padding.pdf') for detail explanation (Can be found in https://github.com/newaz-aa/CNN)"
      ],
      "metadata": {
        "id": "N5q7JdgO-X-P"
      }
    },
    {
      "cell_type": "markdown",
      "source": [
        "*Prepared by*\n",
        "\n",
        "*Asif Newaz*\n",
        "\n",
        "*Lecturer, EEE, IUT*"
      ],
      "metadata": {
        "id": "_vGT8as6-uUm"
      }
    },
    {
      "cell_type": "code",
      "execution_count": 1,
      "metadata": {
        "id": "N602cvVK6uBs"
      },
      "outputs": [],
      "source": [
        "import tensorflow as tf\n",
        "import matplotlib.pyplot as plt\n",
        "import pandas as pd\n",
        "import numpy as np"
      ]
    },
    {
      "cell_type": "code",
      "source": [
        "(X_train, y_train), (X_test, y_test) = tf.keras.datasets.cifar10.load_data()"
      ],
      "metadata": {
        "colab": {
          "base_uri": "https://localhost:8080/"
        },
        "id": "Ymydi06H6_a0",
        "outputId": "04e8378c-f35c-4108-9161-a46e06867f00"
      },
      "execution_count": 2,
      "outputs": [
        {
          "output_type": "stream",
          "name": "stdout",
          "text": [
            "Downloading data from https://www.cs.toronto.edu/~kriz/cifar-10-python.tar.gz\n",
            "170498071/170498071 [==============================] - 11s 0us/step\n"
          ]
        }
      ]
    },
    {
      "cell_type": "code",
      "source": [
        "X_train[0].shape"
      ],
      "metadata": {
        "colab": {
          "base_uri": "https://localhost:8080/"
        },
        "id": "HT4ibFxd7YIc",
        "outputId": "fa7bf03a-502c-4c09-e878-47d0e40f0b37"
      },
      "execution_count": 3,
      "outputs": [
        {
          "output_type": "execute_result",
          "data": {
            "text/plain": [
              "(32, 32, 3)"
            ]
          },
          "metadata": {},
          "execution_count": 3
        }
      ]
    },
    {
      "cell_type": "markdown",
      "source": [
        "**Convolution**"
      ],
      "metadata": {
        "id": "xv0RUOGm-ybJ"
      }
    },
    {
      "cell_type": "code",
      "source": [
        "model_v1 = tf.keras.Sequential(\n",
        "    [\n",
        "    tf.keras.layers.Conv2D(32, (3,3), padding='same', activation=\"relu\", strides= 1, input_shape=(32, 32, 3)),\n",
        "    tf.keras.layers.Conv2D(32, (3,3), padding='same', activation=\"relu\", strides= 2, input_shape=(32, 32, 3)),\n",
        "    tf.keras.layers.Conv2D(64, (3,3), padding='valid', activation=\"relu\", strides=1),\n",
        "    tf.keras.layers.Conv2D(64, (3,3), padding='valid', activation=\"relu\", strides=2),\n",
        "\n",
        "    tf.keras.layers.Flatten(),\n",
        "    tf.keras.layers.Dense(100, activation=\"relu\"),\n",
        "    tf.keras.layers.Dense(10, activation=\"softmax\")\n",
        "]\n",
        ")"
      ],
      "metadata": {
        "id": "WBKm1gMc7b9E"
      },
      "execution_count": 23,
      "outputs": []
    },
    {
      "cell_type": "code",
      "source": [
        "model_v1.summary()"
      ],
      "metadata": {
        "colab": {
          "base_uri": "https://localhost:8080/"
        },
        "id": "__GspyjV7v_Q",
        "outputId": "4f768483-adc9-4047-97c0-4f1f57b4606d"
      },
      "execution_count": 24,
      "outputs": [
        {
          "output_type": "stream",
          "name": "stdout",
          "text": [
            "Model: \"sequential_9\"\n",
            "_________________________________________________________________\n",
            " Layer (type)                Output Shape              Param #   \n",
            "=================================================================\n",
            " conv2d_26 (Conv2D)          (None, 32, 32, 32)        896       \n",
            "                                                                 \n",
            " conv2d_27 (Conv2D)          (None, 16, 16, 32)        9248      \n",
            "                                                                 \n",
            " conv2d_28 (Conv2D)          (None, 14, 14, 64)        18496     \n",
            "                                                                 \n",
            " conv2d_29 (Conv2D)          (None, 6, 6, 64)          36928     \n",
            "                                                                 \n",
            " flatten_9 (Flatten)         (None, 2304)              0         \n",
            "                                                                 \n",
            " dense_18 (Dense)            (None, 100)               230500    \n",
            "                                                                 \n",
            " dense_19 (Dense)            (None, 10)                1010      \n",
            "                                                                 \n",
            "=================================================================\n",
            "Total params: 297078 (1.13 MB)\n",
            "Trainable params: 297078 (1.13 MB)\n",
            "Non-trainable params: 0 (0.00 Byte)\n",
            "_________________________________________________________________\n"
          ]
        }
      ]
    },
    {
      "cell_type": "code",
      "source": [
        "model_v2 = tf.keras.Sequential(\n",
        "    [\n",
        "    tf.keras.layers.Conv2D(32, (3,3), padding='same', activation=\"relu\", strides= 2, input_shape=(32, 32, 3)),\n",
        "    tf.keras.layers.Conv2D(32, (3,3), padding='same', activation=\"relu\", strides= 1, input_shape=(32, 32, 3)),\n",
        "    tf.keras.layers.Conv2D(64, (3,3), padding='valid', activation=\"relu\", strides=1),\n",
        "    tf.keras.layers.Conv2D(64, (3,3), padding='valid', activation=\"relu\", strides=2),\n",
        "\n",
        "    tf.keras.layers.Flatten(),\n",
        "    tf.keras.layers.Dense(100, activation=\"relu\"),\n",
        "    tf.keras.layers.Dense(10, activation=\"softmax\")\n",
        "]\n",
        ")"
      ],
      "metadata": {
        "id": "BuP6Ofzj73bY"
      },
      "execution_count": 19,
      "outputs": []
    },
    {
      "cell_type": "code",
      "source": [
        "model_v2.summary()"
      ],
      "metadata": {
        "colab": {
          "base_uri": "https://localhost:8080/"
        },
        "id": "IdrIlVfU-Orx",
        "outputId": "d8f85b19-de2c-4ad0-8c3d-22ec1c61283e"
      },
      "execution_count": 20,
      "outputs": [
        {
          "output_type": "stream",
          "name": "stdout",
          "text": [
            "Model: \"sequential_7\"\n",
            "_________________________________________________________________\n",
            " Layer (type)                Output Shape              Param #   \n",
            "=================================================================\n",
            " conv2d_18 (Conv2D)          (None, 16, 16, 32)        896       \n",
            "                                                                 \n",
            " conv2d_19 (Conv2D)          (None, 16, 16, 32)        9248      \n",
            "                                                                 \n",
            " conv2d_20 (Conv2D)          (None, 14, 14, 64)        18496     \n",
            "                                                                 \n",
            " conv2d_21 (Conv2D)          (None, 6, 6, 64)          36928     \n",
            "                                                                 \n",
            " flatten_7 (Flatten)         (None, 2304)              0         \n",
            "                                                                 \n",
            " dense_14 (Dense)            (None, 100)               230500    \n",
            "                                                                 \n",
            " dense_15 (Dense)            (None, 10)                1010      \n",
            "                                                                 \n",
            "=================================================================\n",
            "Total params: 297078 (1.13 MB)\n",
            "Trainable params: 297078 (1.13 MB)\n",
            "Non-trainable params: 0 (0.00 Byte)\n",
            "_________________________________________________________________\n"
          ]
        }
      ]
    },
    {
      "cell_type": "code",
      "source": [
        "model_v3 = tf.keras.Sequential(\n",
        "    [\n",
        "    tf.keras.layers.Conv2D(32, (3,3), padding='same', activation=\"relu\", strides= 3, input_shape=(32, 32, 3)),\n",
        "    tf.keras.layers.Conv2D(32, (3,3), padding='same', activation=\"relu\", strides= 1, input_shape=(32, 32, 3)),\n",
        "    tf.keras.layers.Conv2D(64, (3,3), padding='valid', activation=\"relu\", strides=1),\n",
        "    tf.keras.layers.Conv2D(64, (3,3), padding='valid', activation=\"relu\", strides=2),\n",
        "\n",
        "    tf.keras.layers.Flatten(),\n",
        "    tf.keras.layers.Dense(100, activation=\"relu\"),\n",
        "    tf.keras.layers.Dense(10, activation=\"softmax\")\n",
        "]\n",
        ")"
      ],
      "metadata": {
        "id": "P02XQY7qCjKi"
      },
      "execution_count": 21,
      "outputs": []
    },
    {
      "cell_type": "code",
      "source": [
        "model_v3.summary()"
      ],
      "metadata": {
        "colab": {
          "base_uri": "https://localhost:8080/"
        },
        "id": "wXWNr4r7Cm_Y",
        "outputId": "aece84cf-79cd-4d3d-a6aa-c0be3890c3e0"
      },
      "execution_count": 22,
      "outputs": [
        {
          "output_type": "stream",
          "name": "stdout",
          "text": [
            "Model: \"sequential_8\"\n",
            "_________________________________________________________________\n",
            " Layer (type)                Output Shape              Param #   \n",
            "=================================================================\n",
            " conv2d_22 (Conv2D)          (None, 11, 11, 32)        896       \n",
            "                                                                 \n",
            " conv2d_23 (Conv2D)          (None, 11, 11, 32)        9248      \n",
            "                                                                 \n",
            " conv2d_24 (Conv2D)          (None, 9, 9, 64)          18496     \n",
            "                                                                 \n",
            " conv2d_25 (Conv2D)          (None, 4, 4, 64)          36928     \n",
            "                                                                 \n",
            " flatten_8 (Flatten)         (None, 1024)              0         \n",
            "                                                                 \n",
            " dense_16 (Dense)            (None, 100)               102500    \n",
            "                                                                 \n",
            " dense_17 (Dense)            (None, 10)                1010      \n",
            "                                                                 \n",
            "=================================================================\n",
            "Total params: 169078 (660.46 KB)\n",
            "Trainable params: 169078 (660.46 KB)\n",
            "Non-trainable params: 0 (0.00 Byte)\n",
            "_________________________________________________________________\n"
          ]
        }
      ]
    },
    {
      "cell_type": "code",
      "source": [
        "model_v4 = tf.keras.Sequential(\n",
        "    [\n",
        "    tf.keras.layers.Conv2D(32, (4,4), padding='same', activation=\"relu\", strides= 2, input_shape=(32, 32, 3)),\n",
        "\n",
        "    tf.keras.layers.Flatten(),\n",
        "    tf.keras.layers.Dense(100, activation=\"relu\"),\n",
        "    tf.keras.layers.Dense(10, activation=\"softmax\")\n",
        "]\n",
        ")"
      ],
      "metadata": {
        "id": "2S_F_20LI_oB"
      },
      "execution_count": 25,
      "outputs": []
    },
    {
      "cell_type": "code",
      "source": [
        "model_v4.summary()"
      ],
      "metadata": {
        "colab": {
          "base_uri": "https://localhost:8080/"
        },
        "id": "wiXUki_TJGbB",
        "outputId": "e73b6c6c-c68d-45e6-8545-1e167dba488b"
      },
      "execution_count": 26,
      "outputs": [
        {
          "output_type": "stream",
          "name": "stdout",
          "text": [
            "Model: \"sequential_10\"\n",
            "_________________________________________________________________\n",
            " Layer (type)                Output Shape              Param #   \n",
            "=================================================================\n",
            " conv2d_30 (Conv2D)          (None, 16, 16, 32)        1568      \n",
            "                                                                 \n",
            " flatten_10 (Flatten)        (None, 8192)              0         \n",
            "                                                                 \n",
            " dense_20 (Dense)            (None, 100)               819300    \n",
            "                                                                 \n",
            " dense_21 (Dense)            (None, 10)                1010      \n",
            "                                                                 \n",
            "=================================================================\n",
            "Total params: 821878 (3.14 MB)\n",
            "Trainable params: 821878 (3.14 MB)\n",
            "Non-trainable params: 0 (0.00 Byte)\n",
            "_________________________________________________________________\n"
          ]
        }
      ]
    },
    {
      "cell_type": "code",
      "source": [
        "model_v5 = tf.keras.Sequential(\n",
        "    [\n",
        "    tf.keras.layers.Conv2D(32, (4,4), padding='same', activation=\"relu\", strides= 3, input_shape=(32, 32, 3)),\n",
        "\n",
        "    tf.keras.layers.Flatten(),\n",
        "    tf.keras.layers.Dense(100, activation=\"relu\"),\n",
        "    tf.keras.layers.Dense(10, activation=\"softmax\")\n",
        "]\n",
        ")"
      ],
      "metadata": {
        "id": "DG3VmSDYJcpe"
      },
      "execution_count": 27,
      "outputs": []
    },
    {
      "cell_type": "code",
      "source": [
        "model_v5.summary()"
      ],
      "metadata": {
        "colab": {
          "base_uri": "https://localhost:8080/"
        },
        "id": "tpTEQ7DPJfWj",
        "outputId": "8fd0774f-e267-47fc-d7ed-b52c596df204"
      },
      "execution_count": 28,
      "outputs": [
        {
          "output_type": "stream",
          "name": "stdout",
          "text": [
            "Model: \"sequential_11\"\n",
            "_________________________________________________________________\n",
            " Layer (type)                Output Shape              Param #   \n",
            "=================================================================\n",
            " conv2d_31 (Conv2D)          (None, 11, 11, 32)        1568      \n",
            "                                                                 \n",
            " flatten_11 (Flatten)        (None, 3872)              0         \n",
            "                                                                 \n",
            " dense_22 (Dense)            (None, 100)               387300    \n",
            "                                                                 \n",
            " dense_23 (Dense)            (None, 10)                1010      \n",
            "                                                                 \n",
            "=================================================================\n",
            "Total params: 389878 (1.49 MB)\n",
            "Trainable params: 389878 (1.49 MB)\n",
            "Non-trainable params: 0 (0.00 Byte)\n",
            "_________________________________________________________________\n"
          ]
        }
      ]
    },
    {
      "cell_type": "code",
      "source": [
        "model_v6 = tf.keras.Sequential(\n",
        "    [\n",
        "    tf.keras.layers.Conv2D(32, (4,4), padding='same', activation=\"relu\", strides= 4, input_shape=(32, 32, 3)),\n",
        "\n",
        "    tf.keras.layers.Flatten(),\n",
        "    tf.keras.layers.Dense(100, activation=\"relu\"),\n",
        "    tf.keras.layers.Dense(10, activation=\"softmax\")\n",
        "]\n",
        ")"
      ],
      "metadata": {
        "id": "cY9zFZdUQqyO"
      },
      "execution_count": 30,
      "outputs": []
    },
    {
      "cell_type": "code",
      "source": [
        "model_v6.summary()"
      ],
      "metadata": {
        "colab": {
          "base_uri": "https://localhost:8080/"
        },
        "id": "L2JEbFyhQwkd",
        "outputId": "ca8b90b3-7a8a-47e2-b2cb-cad48e66a674"
      },
      "execution_count": 31,
      "outputs": [
        {
          "output_type": "stream",
          "name": "stdout",
          "text": [
            "Model: \"sequential_13\"\n",
            "_________________________________________________________________\n",
            " Layer (type)                Output Shape              Param #   \n",
            "=================================================================\n",
            " conv2d_33 (Conv2D)          (None, 8, 8, 32)          1568      \n",
            "                                                                 \n",
            " flatten_13 (Flatten)        (None, 2048)              0         \n",
            "                                                                 \n",
            " dense_26 (Dense)            (None, 100)               204900    \n",
            "                                                                 \n",
            " dense_27 (Dense)            (None, 10)                1010      \n",
            "                                                                 \n",
            "=================================================================\n",
            "Total params: 207478 (810.46 KB)\n",
            "Trainable params: 207478 (810.46 KB)\n",
            "Non-trainable params: 0 (0.00 Byte)\n",
            "_________________________________________________________________\n"
          ]
        }
      ]
    },
    {
      "cell_type": "code",
      "source": [
        "model_v7 = tf.keras.Sequential(\n",
        "    [\n",
        "    tf.keras.layers.Conv2D(32, (7,7), padding='same', activation=\"relu\", strides= 4, input_shape=(32, 32, 3)),\n",
        "\n",
        "    tf.keras.layers.Flatten(),\n",
        "    tf.keras.layers.Dense(100, activation=\"relu\"),\n",
        "    tf.keras.layers.Dense(10, activation=\"softmax\")\n",
        "]\n",
        ")"
      ],
      "metadata": {
        "id": "y2KG6_PwRUNc"
      },
      "execution_count": 32,
      "outputs": []
    },
    {
      "cell_type": "code",
      "source": [
        "model_v7.summary()"
      ],
      "metadata": {
        "colab": {
          "base_uri": "https://localhost:8080/"
        },
        "id": "Yq6_vgT1RX_J",
        "outputId": "c92a9520-3dc0-4117-94b9-5278ccd28984"
      },
      "execution_count": 33,
      "outputs": [
        {
          "output_type": "stream",
          "name": "stdout",
          "text": [
            "Model: \"sequential_14\"\n",
            "_________________________________________________________________\n",
            " Layer (type)                Output Shape              Param #   \n",
            "=================================================================\n",
            " conv2d_34 (Conv2D)          (None, 8, 8, 32)          4736      \n",
            "                                                                 \n",
            " flatten_14 (Flatten)        (None, 2048)              0         \n",
            "                                                                 \n",
            " dense_28 (Dense)            (None, 100)               204900    \n",
            "                                                                 \n",
            " dense_29 (Dense)            (None, 10)                1010      \n",
            "                                                                 \n",
            "=================================================================\n",
            "Total params: 210646 (822.84 KB)\n",
            "Trainable params: 210646 (822.84 KB)\n",
            "Non-trainable params: 0 (0.00 Byte)\n",
            "_________________________________________________________________\n"
          ]
        }
      ]
    },
    {
      "cell_type": "code",
      "source": [
        "model_v8 = tf.keras.Sequential(\n",
        "    [\n",
        "    tf.keras.layers.Conv2D(32, (7,7), padding='valid', activation=\"relu\", strides= 4, input_shape=(32, 32, 3)),\n",
        "\n",
        "    tf.keras.layers.Flatten(),\n",
        "    tf.keras.layers.Dense(100, activation=\"relu\"),\n",
        "    tf.keras.layers.Dense(10, activation=\"softmax\")\n",
        "]\n",
        ")"
      ],
      "metadata": {
        "id": "S6z5Vct3R7yh"
      },
      "execution_count": 34,
      "outputs": []
    },
    {
      "cell_type": "code",
      "source": [
        "model_v8.summary()"
      ],
      "metadata": {
        "colab": {
          "base_uri": "https://localhost:8080/"
        },
        "id": "rZg3I3wvR_dB",
        "outputId": "39837a3c-abc8-4146-bbd9-81188ee7f3c8"
      },
      "execution_count": 35,
      "outputs": [
        {
          "output_type": "stream",
          "name": "stdout",
          "text": [
            "Model: \"sequential_15\"\n",
            "_________________________________________________________________\n",
            " Layer (type)                Output Shape              Param #   \n",
            "=================================================================\n",
            " conv2d_35 (Conv2D)          (None, 7, 7, 32)          4736      \n",
            "                                                                 \n",
            " flatten_15 (Flatten)        (None, 1568)              0         \n",
            "                                                                 \n",
            " dense_30 (Dense)            (None, 100)               156900    \n",
            "                                                                 \n",
            " dense_31 (Dense)            (None, 10)                1010      \n",
            "                                                                 \n",
            "=================================================================\n",
            "Total params: 162646 (635.34 KB)\n",
            "Trainable params: 162646 (635.34 KB)\n",
            "Non-trainable params: 0 (0.00 Byte)\n",
            "_________________________________________________________________\n"
          ]
        }
      ]
    }
  ]
}